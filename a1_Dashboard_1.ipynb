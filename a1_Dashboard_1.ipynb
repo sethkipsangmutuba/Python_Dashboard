{
  "nbformat": 4,
  "nbformat_minor": 0,
  "metadata": {
    "colab": {
      "provenance": [],
      "authorship_tag": "ABX9TyOgrSvCalfaaU8ZQVW366LQ",
      "include_colab_link": true
    },
    "kernelspec": {
      "name": "python3",
      "display_name": "Python 3"
    },
    "language_info": {
      "name": "python"
    }
  },
  "cells": [
    {
      "cell_type": "markdown",
      "metadata": {
        "id": "view-in-github",
        "colab_type": "text"
      },
      "source": [
        "<a href=\"https://colab.research.google.com/github/sethkipsangmutuba/Python_Dashboard/blob/Deeplearning/a1_Dashboard_1.ipynb\" target=\"_parent\"><img src=\"https://colab.research.google.com/assets/colab-badge.svg\" alt=\"Open In Colab\"/></a>"
      ]
    },
    {
      "cell_type": "markdown",
      "source": [
        "#Library Installation"
      ],
      "metadata": {
        "id": "o5uSgk7Ga2ac"
      }
    },
    {
      "cell_type": "code",
      "source": [
        "!pip install pandas numpy faker dash dash-leaflet plotly"
      ],
      "metadata": {
        "id": "9HeYWtjKa_dr",
        "colab": {
          "base_uri": "https://localhost:8080/"
        },
        "outputId": "8a88aab6-d238-4c47-de48-1b938e0fe07d"
      },
      "execution_count": 15,
      "outputs": [
        {
          "output_type": "stream",
          "name": "stdout",
          "text": [
            "Requirement already satisfied: pandas in /usr/local/lib/python3.10/dist-packages (2.2.2)\n",
            "Requirement already satisfied: numpy in /usr/local/lib/python3.10/dist-packages (1.26.4)\n",
            "Requirement already satisfied: faker in /usr/local/lib/python3.10/dist-packages (28.4.1)\n",
            "Requirement already satisfied: dash in /usr/local/lib/python3.10/dist-packages (2.18.1)\n",
            "Requirement already satisfied: dash-leaflet in /usr/local/lib/python3.10/dist-packages (1.0.15)\n",
            "Requirement already satisfied: plotly in /usr/local/lib/python3.10/dist-packages (5.24.1)\n",
            "Requirement already satisfied: python-dateutil>=2.8.2 in /usr/local/lib/python3.10/dist-packages (from pandas) (2.8.2)\n",
            "Requirement already satisfied: pytz>=2020.1 in /usr/local/lib/python3.10/dist-packages (from pandas) (2024.2)\n",
            "Requirement already satisfied: tzdata>=2022.7 in /usr/local/lib/python3.10/dist-packages (from pandas) (2024.1)\n",
            "Requirement already satisfied: Flask<3.1,>=1.0.4 in /usr/local/lib/python3.10/dist-packages (from dash) (2.2.5)\n",
            "Requirement already satisfied: Werkzeug<3.1 in /usr/local/lib/python3.10/dist-packages (from dash) (3.0.4)\n",
            "Requirement already satisfied: dash-html-components==2.0.0 in /usr/local/lib/python3.10/dist-packages (from dash) (2.0.0)\n",
            "Requirement already satisfied: dash-core-components==2.0.0 in /usr/local/lib/python3.10/dist-packages (from dash) (2.0.0)\n",
            "Requirement already satisfied: dash-table==5.0.0 in /usr/local/lib/python3.10/dist-packages (from dash) (5.0.0)\n",
            "Requirement already satisfied: importlib-metadata in /usr/local/lib/python3.10/dist-packages (from dash) (8.5.0)\n",
            "Requirement already satisfied: typing-extensions>=4.1.1 in /usr/local/lib/python3.10/dist-packages (from dash) (4.12.2)\n",
            "Requirement already satisfied: requests in /usr/local/lib/python3.10/dist-packages (from dash) (2.32.3)\n",
            "Requirement already satisfied: retrying in /usr/local/lib/python3.10/dist-packages (from dash) (1.3.4)\n",
            "Requirement already satisfied: nest-asyncio in /usr/local/lib/python3.10/dist-packages (from dash) (1.6.0)\n",
            "Requirement already satisfied: setuptools in /usr/local/lib/python3.10/dist-packages (from dash) (71.0.4)\n",
            "Requirement already satisfied: tenacity>=6.2.0 in /usr/local/lib/python3.10/dist-packages (from plotly) (9.0.0)\n",
            "Requirement already satisfied: packaging in /usr/local/lib/python3.10/dist-packages (from plotly) (24.1)\n",
            "Requirement already satisfied: Jinja2>=3.0 in /usr/local/lib/python3.10/dist-packages (from Flask<3.1,>=1.0.4->dash) (3.1.4)\n",
            "Requirement already satisfied: itsdangerous>=2.0 in /usr/local/lib/python3.10/dist-packages (from Flask<3.1,>=1.0.4->dash) (2.2.0)\n",
            "Requirement already satisfied: click>=8.0 in /usr/local/lib/python3.10/dist-packages (from Flask<3.1,>=1.0.4->dash) (8.1.7)\n",
            "Requirement already satisfied: six>=1.5 in /usr/local/lib/python3.10/dist-packages (from python-dateutil>=2.8.2->pandas) (1.16.0)\n",
            "Requirement already satisfied: MarkupSafe>=2.1.1 in /usr/local/lib/python3.10/dist-packages (from Werkzeug<3.1->dash) (2.1.5)\n",
            "Requirement already satisfied: zipp>=3.20 in /usr/local/lib/python3.10/dist-packages (from importlib-metadata->dash) (3.20.1)\n",
            "Requirement already satisfied: charset-normalizer<4,>=2 in /usr/local/lib/python3.10/dist-packages (from requests->dash) (3.3.2)\n",
            "Requirement already satisfied: idna<4,>=2.5 in /usr/local/lib/python3.10/dist-packages (from requests->dash) (3.8)\n",
            "Requirement already satisfied: urllib3<3,>=1.21.1 in /usr/local/lib/python3.10/dist-packages (from requests->dash) (2.0.7)\n",
            "Requirement already satisfied: certifi>=2017.4.17 in /usr/local/lib/python3.10/dist-packages (from requests->dash) (2024.8.30)\n"
          ]
        }
      ]
    },
    {
      "cell_type": "code",
      "source": [
        "!pip install --upgrade pandas plotly"
      ],
      "metadata": {
        "colab": {
          "base_uri": "https://localhost:8080/"
        },
        "id": "mN51ezHrbcxS",
        "outputId": "2d8d2e13-4566-458d-e548-9a97685238cd"
      },
      "execution_count": 17,
      "outputs": [
        {
          "output_type": "stream",
          "name": "stdout",
          "text": [
            "Requirement already satisfied: pandas in /usr/local/lib/python3.10/dist-packages (2.2.2)\n",
            "Requirement already satisfied: plotly in /usr/local/lib/python3.10/dist-packages (5.24.1)\n",
            "Requirement already satisfied: numpy>=1.22.4 in /usr/local/lib/python3.10/dist-packages (from pandas) (1.26.4)\n",
            "Requirement already satisfied: python-dateutil>=2.8.2 in /usr/local/lib/python3.10/dist-packages (from pandas) (2.8.2)\n",
            "Requirement already satisfied: pytz>=2020.1 in /usr/local/lib/python3.10/dist-packages (from pandas) (2024.2)\n",
            "Requirement already satisfied: tzdata>=2022.7 in /usr/local/lib/python3.10/dist-packages (from pandas) (2024.1)\n",
            "Requirement already satisfied: tenacity>=6.2.0 in /usr/local/lib/python3.10/dist-packages (from plotly) (9.0.0)\n",
            "Requirement already satisfied: packaging in /usr/local/lib/python3.10/dist-packages (from plotly) (24.1)\n",
            "Requirement already satisfied: six>=1.5 in /usr/local/lib/python3.10/dist-packages (from python-dateutil>=2.8.2->pandas) (1.16.0)\n"
          ]
        }
      ]
    },
    {
      "cell_type": "code",
      "source": [
        "import warnings\n",
        "warnings.simplefilter(action='ignore', category=FutureWarning)\n"
      ],
      "metadata": {
        "id": "T8nBx_W0cCfo"
      },
      "execution_count": 16,
      "outputs": []
    },
    {
      "cell_type": "markdown",
      "source": [
        "#Dashboard"
      ],
      "metadata": {
        "id": "MoJ7s-6qbEFj"
      }
    },
    {
      "cell_type": "code",
      "source": [
        "import pandas as pd\n",
        "import numpy as np\n",
        "import random\n",
        "from faker import Faker\n",
        "from datetime import datetime\n",
        "import dash\n",
        "from dash import dcc, html\n",
        "import plotly.express as px\n",
        "import dash_leaflet as dl\n",
        "\n",
        "# Initialize Faker\n",
        "fake = Faker()\n",
        "\n",
        "# Define data\n",
        "drug_categories = ['Antibiotics', 'Vaccines', 'Painkillers', 'Antivirals', 'Antifungals']\n",
        "approval_statuses = ['Approved', 'Rejected', 'Pending']\n",
        "years = pd.date_range(start='2019-01-01', end='2023-12-31', freq='M')\n",
        "\n",
        "# Define specific locations within Kenya\n",
        "kenya_locations = {\n",
        "    'Nairobi': (-1.286389, 36.817223),\n",
        "    'Mombasa': (-4.043477, 39.668206),\n",
        "    'Kisumu': (-0.091702, 34.768159),\n",
        "    'Eldoret': (0.514299, 35.269708),\n",
        "    'Nakuru': (-0.303099, 36.066097),\n",
        "    'Garissa': (-0.455635, 39.664963),\n",
        "    'Kakamega': (0.283261, 34.751218),\n",
        "    'Kitale': (1.002222, 35.014986),\n",
        "    'Meru': (-0.049925, 37.652155),\n",
        "    'Thika': (-1.033333, 37.083333)\n",
        "}\n",
        "\n",
        "# Generate synthetic data with realistic location coordinates\n",
        "data = {\n",
        "    'Date': [random.choice(years) for _ in range(500)],\n",
        "    'Drug_Category': [random.choice(drug_categories) for _ in range(500)],\n",
        "    'Approvals': [random.randint(50, 500) for _ in range(500)],\n",
        "    'Approval_Status': [random.choice(approval_statuses) for _ in range(500)],\n",
        "    'Adverse_Reactions': [random.randint(0, 50) for _ in range(500)],\n",
        "    'Approval_Timeline': [random.randint(30, 180) for _ in range(500)],  # In days\n",
        "    'Location': [random.choice(list(kenya_locations.keys())) for _ in range(500)]\n",
        "}\n",
        "\n",
        "# Add latitude and longitude columns based on the location\n",
        "df = pd.DataFrame(data)\n",
        "df['Latitude'] = df['Location'].map(lambda loc: kenya_locations[loc][0])\n",
        "df['Longitude'] = df['Location'].map(lambda loc: kenya_locations[loc][1])\n",
        "\n",
        "# Initialize the Dash app\n",
        "app = dash.Dash(__name__)\n",
        "\n",
        "# Create a Dash layout\n",
        "app.layout = html.Div([\n",
        "    html.H1(\"Real-Time Dashboard with GIS Mapping\"),\n",
        "    dcc.Graph(\n",
        "        id='approvals-trend',\n",
        "        figure=px.line(df, x='Date', y='Approvals', title='Approvals Trend Over Time')\n",
        "    ),\n",
        "    dcc.Graph(\n",
        "        id='category-distribution',\n",
        "        figure=px.bar(df, x='Drug_Category', y='Approvals', color='Drug_Category', title='Drug Approvals by Category')\n",
        "    ),\n",
        "    dcc.Graph(\n",
        "        id='status-pie-chart',\n",
        "        figure=px.pie(df, names='Approval_Status', title='Approval Status Distribution')\n",
        "    ),\n",
        "    dcc.Graph(\n",
        "        id='adverse-reactions-histogram',\n",
        "        figure=px.histogram(df, x='Adverse_Reactions', title='Distribution of Adverse Reactions')\n",
        "    ),\n",
        "    html.Div([\n",
        "        html.H3(\"Real-Time Location Map\"),\n",
        "        dl.Map([\n",
        "            dl.TileLayer(),\n",
        "            dl.LayerGroup([\n",
        "                dl.Marker(\n",
        "                    position=[lat, lon],\n",
        "                    children=[\n",
        "                        dl.Popup(f'{loc}<br>Approvals: {df[(df[\"Latitude\"] == lat) & (df[\"Longitude\"] == lon)][\"Approvals\"].sum()}')\n",
        "                    ]\n",
        "                )\n",
        "                for loc, lat, lon in zip(df['Location'], df['Latitude'], df['Longitude'])\n",
        "            ])\n",
        "        ], center=(-1.2921, 36.8219), zoom=6, style={'width': '1000px', 'height': '500px'})\n",
        "    ])\n",
        "])\n",
        "\n",
        "# Run the app\n",
        "if __name__ == '__main__':\n",
        "    app.run_server(debug=True)\n"
      ],
      "metadata": {
        "colab": {
          "base_uri": "https://localhost:8080/",
          "height": 671
        },
        "id": "MVxEUl3wc1a-",
        "outputId": "891b224a-bc04-46e9-8c22-302106fe2b1f"
      },
      "execution_count": 18,
      "outputs": [
        {
          "output_type": "display_data",
          "data": {
            "text/plain": [
              "<IPython.core.display.Javascript object>"
            ],
            "application/javascript": [
              "(async (port, path, width, height, cache, element) => {\n",
              "    if (!google.colab.kernel.accessAllowed && !cache) {\n",
              "      return;\n",
              "    }\n",
              "    element.appendChild(document.createTextNode(''));\n",
              "    const url = await google.colab.kernel.proxyPort(port, {cache});\n",
              "    const iframe = document.createElement('iframe');\n",
              "    iframe.src = new URL(path, url).toString();\n",
              "    iframe.height = height;\n",
              "    iframe.width = width;\n",
              "    iframe.style.border = 0;\n",
              "    iframe.allow = [\n",
              "        'accelerometer',\n",
              "        'autoplay',\n",
              "        'camera',\n",
              "        'clipboard-read',\n",
              "        'clipboard-write',\n",
              "        'gyroscope',\n",
              "        'magnetometer',\n",
              "        'microphone',\n",
              "        'serial',\n",
              "        'usb',\n",
              "        'xr-spatial-tracking',\n",
              "    ].join('; ');\n",
              "    element.appendChild(iframe);\n",
              "  })(8050, \"/\", \"100%\", 650, false, window.element)"
            ]
          },
          "metadata": {}
        }
      ]
    }
  ]
}